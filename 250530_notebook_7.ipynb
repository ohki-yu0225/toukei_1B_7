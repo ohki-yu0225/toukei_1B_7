{
  "cells": [
    {
      "cell_type": "markdown",
      "metadata": {
        "id": "view-in-github",
        "colab_type": "text"
      },
      "source": [
        "<a href=\"https://colab.research.google.com/github/ohki-yu0225/toukei_1B_7/blob/main/250530_notebook_7.ipynb\" target=\"_parent\"><img src=\"https://colab.research.google.com/assets/colab-badge.svg\" alt=\"Open In Colab\"/></a>"
      ]
    },
    {
      "cell_type": "markdown",
      "id": "e9a485d9",
      "metadata": {
        "id": "e9a485d9"
      },
      "source": [
        "# 統計学実習 IB 第 7 回\n",
        "\n",
        "担当：大木 有<br>\n",
        "日時：2024 年 5 月 30 日（金）\n",
        "\n",
        "### 内容\n",
        "\n",
        "- 相関関係と因果関係\n",
        "- 総合課題"
      ]
    },
    {
      "cell_type": "markdown",
      "id": "97727fe1",
      "metadata": {
        "id": "97727fe1"
      },
      "source": [
        "# Statistics Practice IB 7th\n",
        "\n",
        "Contact: Yu Ohki<br>\n",
        "Date: Friday, May 30, 2024\n",
        "\n",
        "### Contents\n",
        "\n",
        "- Correlation and causation\n",
        "- Integrated exercises"
      ]
    },
    {
      "cell_type": "markdown",
      "id": "b5f1a7de",
      "metadata": {
        "id": "b5f1a7de"
      },
      "source": [
        "## データ分析の準備\n"
      ]
    },
    {
      "cell_type": "markdown",
      "id": "b7ed31f8",
      "metadata": {
        "id": "b7ed31f8"
      },
      "source": [
        "## Preparation of data analysis\n"
      ]
    },
    {
      "cell_type": "code",
      "execution_count": null,
      "id": "69f8bcfd",
      "metadata": {
        "id": "69f8bcfd"
      },
      "outputs": [],
      "source": [
        "#'pandas', 'numpy', 'matplotlib.pyplot', 'japanize_matplotlib'をインポートする。\n",
        "!pip install japanize_matplotlib\n",
        "import pandas as pd\n",
        "import numpy as np\n",
        "import matplotlib.pyplot as plt\n",
        "import japanize_matplotlib"
      ]
    },
    {
      "cell_type": "code",
      "execution_count": null,
      "id": "97bb0f37",
      "metadata": {
        "id": "97bb0f37"
      },
      "outputs": [],
      "source": [
        "# 'sample_7_1.csv'を読み込んで、変数'data'に代入し、最初の10行を表示する。\n",
        "# Read 'sample_7-1.csv', assign it to the variable 'data' and display the first 10 rows.\n",
        "data = pd.read_csv(\"sample_7_1.csv\")\n",
        "data.head(10)"
      ]
    },
    {
      "cell_type": "markdown",
      "id": "3a23574b",
      "metadata": {
        "id": "3a23574b"
      },
      "source": [
        "Counrty: 国名 <br>\n",
        "Chocolate: 人口1人当たりの年間チョコレート消費量 [kg] (2017年) <br>\n",
        "Nobel: 人口1000万人当たりの累計ノーベル賞受賞者数 [人] (2018年まで) <br>\n",
        "GDP: 人口1人当たりのGDP [1000USD] (2017年) <br>\n",
        "出典：Aloys Leo Prinz, Chocolate consumption and Noble laureates, Social Sciences & Humanities Open, Volume 2, Issue 1, 2020, 100082, ISSN 2590-2911, https://doi.org/10.1016/j.ssaho.2020.100082."
      ]
    },
    {
      "cell_type": "markdown",
      "id": "fe9a436a",
      "metadata": {
        "id": "fe9a436a"
      },
      "source": [
        "Country: country name <br>\n",
        "Chocolate: annual chocolate consumption per capita [kg] (2017) <br>\n",
        "Nobel: cumulative Nobel Prize winners per 10 million population [person] (up to 2018) <br>\n",
        "GDP: GDP per capita [1000USD] (2017) <br>\n",
        "Source: Aloys Leo Prinz, Chocolate consumption and Noble laureates, Social Sciences & Humanities Open, Volume 2, Issue 1, 2020, 100082, ISSN 2590-2911, Available from: https://doi.org/10.1016/j.ssaho.2020.100082."
      ]
    },
    {
      "cell_type": "markdown",
      "id": "c57e87b8",
      "metadata": {
        "id": "c57e87b8"
      },
      "source": [
        "## 偏相関係数の計算\n",
        "\n",
        "偏相関係数を計算するために、3つの変数間の散布図の作成と相関係数の計算を行う。次に計算した相関係数を用いて、編相関係数を計算する。<br>\n",
        "\n",
        "（再掲）2変量データの片方のデータを縦軸に、もう片方のデータを横軸として作るグラフを散布図と呼ぶ。散布図は2つのデータの相関関係を可視化するための図である。散布図の作成のためは、`plt`の`scatter`関数を使用する。\n",
        "\n",
        "---\n",
        "```Python\n",
        "plt.scatter(x, y)\n",
        "```\n",
        "---\n",
        "\n",
        "2つのデータの相関関係は-1から1までの値をとる相関係数によって定量的に表すことができる。`DataFrame`からの相関係数の計算は、`corr`を使用する。\n",
        "\n",
        "---\n",
        "```Python\n",
        "df(['列名1']).corr(df['列名2'])\n",
        "```\n",
        "---"
      ]
    },
    {
      "cell_type": "markdown",
      "id": "4ccbfeee",
      "metadata": {
        "id": "4ccbfeee"
      },
      "source": [
        "## Calculation of partial correlation coefficients\n",
        "\n",
        "In order to calculate partial correlation coefficients, scatter plots between the three variables are created and correlation coefficients are calculated. Then, using those correlation coefficients, we calculate the partial correlation coefficient. <br>\n",
        "\n",
        "(Repeat) A graph made with one of the bivariate data as the vertical axis and the other data as the horizontal axis is called a scatter plot. Scatter plots are used to visualize the correlation between two sets of data. To create a scatter plot, use the `scatter` function of `plt`.\n",
        "\n",
        "---\n",
        "```Python\n",
        "plt.scatter(x, y)\n",
        "```\n",
        "---\n",
        "\n",
        "The correlation between two data can be quantitatively expressed by a correlation coefficient that takes values from -1 to 1. To calculate the correlation coefficient from a ``DataFrame``, use ``corr``.\n",
        "\n",
        "---\n",
        "```Python\n",
        "df(['column name1']).corr(df['column name2'])\n",
        "```\n",
        "---"
      ]
    },
    {
      "cell_type": "code",
      "execution_count": null,
      "id": "df962152",
      "metadata": {
        "id": "df962152"
      },
      "outputs": [],
      "source": [
        "# チョコレートの消費量とノーベル賞受賞者数の散布図を作成する。\n",
        "# Create a scatter plot of chocolate consumption and Nobel Prize winners.\n",
        "plt.scatter(data[\"Chocolate\"], data[\"Nobel\"])\n",
        "plt.title(\"チョコレートの消費量とノーベル賞受賞者数の関係\")\n",
        "plt.xlabel(\"人口1人当たりの年間チョコレート消費量 [kg]\")\n",
        "plt.ylabel(\"人口1000万人当たりの累計ノーベル賞受賞者数 [人]\")"
      ]
    },
    {
      "cell_type": "code",
      "execution_count": null,
      "id": "43e50ff8",
      "metadata": {
        "id": "43e50ff8"
      },
      "outputs": [],
      "source": [
        "# チョコレートとノーベル賞受賞者数の消費量の相関係数を計算する。\n",
        "# Calculate the correlation coefficient between chocolate consumption and Nobel Prize winners.\n",
        "r_xy = data[\"Chocolate\"].corr(data[\"Nobel\"])\n",
        "print(f\"相関係数：{r_xy}\")"
      ]
    },
    {
      "cell_type": "code",
      "execution_count": null,
      "id": "64e23c7d",
      "metadata": {
        "id": "64e23c7d"
      },
      "outputs": [],
      "source": [
        "# 練習1 チョコレート消費量とGDPの散布図を作成する。\n",
        "# Exercise 1 Create a scatter plot of chocolate consumption and GDP per capita.\n"
      ]
    },
    {
      "cell_type": "code",
      "execution_count": null,
      "id": "2d9a8697",
      "metadata": {
        "id": "2d9a8697"
      },
      "outputs": [],
      "source": [
        "# 練習2 チョコレート消費量とGDPの相関係数を計算する。\n",
        "# Exercise 2 Calculate the correlation coefficient between chocolate consumption and GDP per capita.\n"
      ]
    },
    {
      "cell_type": "code",
      "execution_count": null,
      "id": "b45d49b4",
      "metadata": {
        "id": "b45d49b4"
      },
      "outputs": [],
      "source": [
        "# 練習3 ノーベル賞受賞数とGDPの散布図を作成する。\n",
        "# Exercise 3 Create a scatter plot of Nobel Prize winners and GDP per capita.\n"
      ]
    },
    {
      "cell_type": "code",
      "execution_count": null,
      "id": "5d2d94f6",
      "metadata": {
        "id": "5d2d94f6"
      },
      "outputs": [],
      "source": [
        "# 練習4 ノーベル賞受賞数とGDPの相関係数を計算する。\n",
        "# Exercise 4 Calculate the correlation coefficient between Nobel Prize winners and GDP per capita.\n"
      ]
    },
    {
      "cell_type": "markdown",
      "id": "97907142",
      "metadata": {
        "id": "97907142"
      },
      "source": [
        "偏相関係数は次の式で計算される。\n",
        "\n",
        "$$\n",
        "    r_{xy|z} = \\frac{r_{xy}-r_{xz}r_{yz}}{\\sqrt{1-r_{xz}^2}\\sqrt{1-r_{yz}^2}}\n",
        "$$\n",
        "\n",
        "（補足）Pythonでの2乗と平方根の計算の例 <br>\n",
        "\n",
        "---\n",
        "```Python\n",
        "x**2 (xの2乗)\n",
        "np.sqrt(x) (xの平方根)\n",
        "```\n",
        "---\n"
      ]
    },
    {
      "cell_type": "markdown",
      "id": "949051bf",
      "metadata": {
        "id": "949051bf"
      },
      "source": [
        "The partial correlation coefficient is calculated by the following equation\n",
        "\n",
        "$$\n",
        "    r_{xy|z} = \\frac{r_{xy}-r_{xz}r_{yz}}{\\sqrt{1-r_{xz}^2}\\sqrt{1-r_{yz}^2}}.\n",
        "$$\n",
        "\n",
        "(Supplemental) Example of square and square root calculations in Python. <br>\n",
        "\n",
        "---\n",
        "```Python\n",
        "x**2 (square of x)\n",
        "np.sqrt(x) (square root of x)\n",
        "```\n",
        "---"
      ]
    },
    {
      "cell_type": "code",
      "execution_count": null,
      "id": "c0c93458",
      "metadata": {
        "id": "c0c93458"
      },
      "outputs": [],
      "source": [
        "# 練習5 偏相関係数を計算する。\n",
        "# Exercise 5 Calculate the partial correlation coefficient.\n"
      ]
    }
  ],
  "metadata": {
    "kernelspec": {
      "display_name": "Python 3 (ipykernel)",
      "language": "python",
      "name": "python3"
    },
    "language_info": {
      "codemirror_mode": {
        "name": "ipython",
        "version": 3
      },
      "file_extension": ".py",
      "mimetype": "text/x-python",
      "name": "python",
      "nbconvert_exporter": "python",
      "pygments_lexer": "ipython3",
      "version": "3.1.-1"
    },
    "colab": {
      "provenance": [],
      "include_colab_link": true
    }
  },
  "nbformat": 4,
  "nbformat_minor": 5
}